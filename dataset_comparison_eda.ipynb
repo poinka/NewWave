{
 "cells": [
  {
   "cell_type": "markdown",
   "id": "d60fb15c",
   "metadata": {},
   "source": [
    "# Jamendo vs Song Describer: Duration, Genres, Text Lengths\n",
    "\n",
    "Metadata-only comparison of the JamendoMaxCaps and Song Describer datasets."
   ]
  },
  {
   "cell_type": "code",
   "execution_count": 4,
   "id": "0e19666e",
   "metadata": {},
   "outputs": [],
   "source": [
    "import json\n",
    "from collections import Counter\n",
    "\n",
    "import numpy as np\n",
    "import pandas as pd\n",
    "from datasets import load_dataset\n",
    "from huggingface_hub import hf_hub_download, list_repo_files\n"
   ]
  },
  {
   "cell_type": "code",
   "execution_count": 6,
   "id": "3d57a06e",
   "metadata": {},
   "outputs": [
    {
     "data": {
      "application/vnd.microsoft.datawrangler.viewer.v0+json": {
       "columns": [
        {
         "name": "index",
         "rawType": "int64",
         "type": "integer"
        },
        {
         "name": "track_id",
         "rawType": "object",
         "type": "string"
        },
        {
         "name": "duration",
         "rawType": "float64",
         "type": "float"
        },
        {
         "name": "genres",
         "rawType": "object",
         "type": "unknown"
        }
       ],
       "ref": "509109b5-4bf6-40d3-ba27-fe8eb02fc4d7",
       "rows": [
        [
         "0",
         "121251",
         "254.0",
         "[]"
        ],
        [
         "1",
         "120968",
         "219.0",
         "[]"
        ],
        [
         "2",
         "121551",
         "178.0",
         "[]"
        ],
        [
         "3",
         "121885",
         "216.0",
         "[]"
        ],
        [
         "4",
         "117561",
         "281.0",
         "['rock', 'electronic', 'drumnbass']"
        ],
        [
         "5",
         "121689",
         "121.0",
         "[]"
        ],
        [
         "6",
         "117577",
         "328.0",
         "['rock', 'electronic', 'drumnbass']"
        ],
        [
         "7",
         "121730",
         "208.0",
         "['rock', 'experimental']"
        ],
        [
         "8",
         "121941",
         "165.0",
         "[]"
        ],
        [
         "9",
         "121154",
         "250.0",
         "['electronic', 'techno', 'dance']"
        ],
        [
         "10",
         "117504",
         "435.0",
         "[]"
        ],
        [
         "11",
         "121168",
         "262.0",
         "['electronic', 'techno', 'dance']"
        ],
        [
         "12",
         "121902",
         "124.0",
         "['rock', 'country', 'classical']"
        ],
        [
         "13",
         "121896",
         "268.0",
         "[]"
        ],
        [
         "14",
         "121213",
         "191.0",
         "['pop', 'rock']"
        ],
        [
         "15",
         "121191",
         "104.0",
         "[]"
        ],
        [
         "16",
         "117397",
         "115.0",
         "[]"
        ],
        [
         "17",
         "121691",
         "89.0",
         "[]"
        ],
        [
         "18",
         "121250",
         "264.0",
         "[]"
        ],
        [
         "19",
         "121734",
         "249.0",
         "['rock', 'experimental']"
        ],
        [
         "20",
         "121513",
         "22.0",
         "[]"
        ],
        [
         "21",
         "121553",
         "244.0",
         "['metal', 'punk', 'electronic']"
        ],
        [
         "22",
         "117576",
         "277.0",
         "['rock', 'drumnbass', 'breakbeat']"
        ],
        [
         "23",
         "121246",
         "168.0",
         "[]"
        ],
        [
         "24",
         "121159",
         "198.0",
         "['electronic', 'techno', 'dance']"
        ],
        [
         "25",
         "121210",
         "92.0",
         "['pop', 'rock']"
        ],
        [
         "26",
         "121160",
         "235.0",
         "['electronic', 'techno', 'dance']"
        ],
        [
         "27",
         "121570",
         "96.0",
         "[]"
        ],
        [
         "28",
         "121364",
         "158.0",
         "[]"
        ],
        [
         "29",
         "121949",
         "147.0",
         "[]"
        ],
        [
         "30",
         "121762",
         "222.0",
         "[]"
        ],
        [
         "31",
         "121211",
         "44.0",
         "['pop', 'rock']"
        ],
        [
         "32",
         "117407",
         "284.0",
         "[]"
        ],
        [
         "33",
         "120976",
         "203.0",
         "[]"
        ],
        [
         "34",
         "121157",
         "207.0",
         "['filmscore']"
        ],
        [
         "35",
         "121249",
         "445.0",
         "[]"
        ],
        [
         "36",
         "121161",
         "225.0",
         "['electronic', 'techno', 'dance']"
        ],
        [
         "37",
         "121728",
         "266.0",
         "['rock', 'experimental', 'filmscore']"
        ],
        [
         "38",
         "121541",
         "158.0",
         "['hiphop', 'pop', 'chillout']"
        ],
        [
         "39",
         "117572",
         "210.0",
         "[]"
        ],
        [
         "40",
         "121672",
         "689.0",
         "[]"
        ],
        [
         "41",
         "120972",
         "288.0",
         "[]"
        ],
        [
         "42",
         "121361",
         "95.0",
         "[]"
        ],
        [
         "43",
         "121178",
         "124.0",
         "['pop', 'rock']"
        ],
        [
         "44",
         "121221",
         "176.0",
         "['pop', 'rock']"
        ],
        [
         "45",
         "121458",
         "155.0",
         "[]"
        ],
        [
         "46",
         "121687",
         "180.0",
         "[]"
        ],
        [
         "47",
         "121708",
         "182.0",
         "[]"
        ],
        [
         "48",
         "121372",
         "40.0",
         "['rap']"
        ],
        [
         "49",
         "121680",
         "98.0",
         "[]"
        ]
       ],
       "shape": {
        "columns": 3,
        "rows": 5000
       }
      },
      "text/html": [
       "<div>\n",
       "<style scoped>\n",
       "    .dataframe tbody tr th:only-of-type {\n",
       "        vertical-align: middle;\n",
       "    }\n",
       "\n",
       "    .dataframe tbody tr th {\n",
       "        vertical-align: top;\n",
       "    }\n",
       "\n",
       "    .dataframe thead th {\n",
       "        text-align: right;\n",
       "    }\n",
       "</style>\n",
       "<table border=\"1\" class=\"dataframe\">\n",
       "  <thead>\n",
       "    <tr style=\"text-align: right;\">\n",
       "      <th></th>\n",
       "      <th>track_id</th>\n",
       "      <th>duration</th>\n",
       "      <th>genres</th>\n",
       "    </tr>\n",
       "  </thead>\n",
       "  <tbody>\n",
       "    <tr>\n",
       "      <th>0</th>\n",
       "      <td>121251</td>\n",
       "      <td>254.0</td>\n",
       "      <td>[]</td>\n",
       "    </tr>\n",
       "    <tr>\n",
       "      <th>1</th>\n",
       "      <td>120968</td>\n",
       "      <td>219.0</td>\n",
       "      <td>[]</td>\n",
       "    </tr>\n",
       "    <tr>\n",
       "      <th>2</th>\n",
       "      <td>121551</td>\n",
       "      <td>178.0</td>\n",
       "      <td>[]</td>\n",
       "    </tr>\n",
       "    <tr>\n",
       "      <th>3</th>\n",
       "      <td>121885</td>\n",
       "      <td>216.0</td>\n",
       "      <td>[]</td>\n",
       "    </tr>\n",
       "    <tr>\n",
       "      <th>4</th>\n",
       "      <td>117561</td>\n",
       "      <td>281.0</td>\n",
       "      <td>[rock, electronic, drumnbass]</td>\n",
       "    </tr>\n",
       "    <tr>\n",
       "      <th>...</th>\n",
       "      <td>...</td>\n",
       "      <td>...</td>\n",
       "      <td>...</td>\n",
       "    </tr>\n",
       "    <tr>\n",
       "      <th>4995</th>\n",
       "      <td>129234</td>\n",
       "      <td>115.0</td>\n",
       "      <td>[]</td>\n",
       "    </tr>\n",
       "    <tr>\n",
       "      <th>4996</th>\n",
       "      <td>129542</td>\n",
       "      <td>266.0</td>\n",
       "      <td>[indie, shoegaze, rock]</td>\n",
       "    </tr>\n",
       "    <tr>\n",
       "      <th>4997</th>\n",
       "      <td>129584</td>\n",
       "      <td>366.0</td>\n",
       "      <td>[electronic, breakcore]</td>\n",
       "    </tr>\n",
       "    <tr>\n",
       "      <th>4998</th>\n",
       "      <td>129270</td>\n",
       "      <td>289.0</td>\n",
       "      <td>[]</td>\n",
       "    </tr>\n",
       "    <tr>\n",
       "      <th>4999</th>\n",
       "      <td>129233</td>\n",
       "      <td>202.0</td>\n",
       "      <td>[]</td>\n",
       "    </tr>\n",
       "  </tbody>\n",
       "</table>\n",
       "<p>5000 rows × 3 columns</p>\n",
       "</div>"
      ],
      "text/plain": [
       "     track_id  duration                         genres\n",
       "0      121251     254.0                             []\n",
       "1      120968     219.0                             []\n",
       "2      121551     178.0                             []\n",
       "3      121885     216.0                             []\n",
       "4      117561     281.0  [rock, electronic, drumnbass]\n",
       "...       ...       ...                            ...\n",
       "4995   129234     115.0                             []\n",
       "4996   129542     266.0        [indie, shoegaze, rock]\n",
       "4997   129584     366.0        [electronic, breakcore]\n",
       "4998   129270     289.0                             []\n",
       "4999   129233     202.0                             []\n",
       "\n",
       "[5000 rows x 3 columns]"
      ]
     },
     "execution_count": 6,
     "metadata": {},
     "output_type": "execute_result"
    }
   ],
   "source": [
    "jamendo_repo = \"amaai-lab/JamendoMaxCaps\"\n",
    "song_repo = \"renumics/song-describer-dataset\"\n",
    "\n",
    "jamendo_records = []\n",
    "for filename in list_repo_files(jamendo_repo, repo_type=\"dataset\"):\n",
    "    if not filename.endswith(\".jsonl\") or not filename[0].isdigit():\n",
    "        continue\n",
    "    local_path = hf_hub_download(jamendo_repo, filename=filename, repo_type=\"dataset\")\n",
    "    with open(local_path, \"r\", encoding=\"utf-8\") as handle:\n",
    "        for line in handle:\n",
    "            if len(jamendo_records) >= 5000:\n",
    "                break\n",
    "            item = json.loads(line)\n",
    "            duration = item.get(\"duration\")\n",
    "            genres = item.get(\"musicinfo\", {}).get(\"tags\", {}).get(\"genres\", []) or []\n",
    "            jamendo_records.append({\n",
    "                \"track_id\": str(item.get(\"id\")),\n",
    "                \"duration\": float(duration) if isinstance(duration, (int, float)) else np.nan,\n",
    "                \"genres\": [g for g in genres if isinstance(g, str)],\n",
    "            })\n",
    "    if len(jamendo_records) >= 5000:\n",
    "        break\n",
    "\n",
    "jamendo_df = pd.DataFrame(jamendo_records)\n",
    "jamendo_df\n"
   ]
  },
  {
   "cell_type": "code",
   "execution_count": 7,
   "id": "03c99e03",
   "metadata": {},
   "outputs": [
    {
     "data": {
      "application/vnd.microsoft.datawrangler.viewer.v0+json": {
       "columns": [
        {
         "name": "index",
         "rawType": "int64",
         "type": "integer"
        },
        {
         "name": "track_id",
         "rawType": "object",
         "type": "string"
        },
        {
         "name": "duration",
         "rawType": "float64",
         "type": "float"
        },
        {
         "name": "caption_chars",
         "rawType": "int64",
         "type": "integer"
        }
       ],
       "ref": "94ef7749-c7a1-4a4c-8096-eb0bd602023d",
       "rows": [
        [
         "0",
         "121251",
         "254.0",
         "489"
        ],
        [
         "1",
         "120968",
         "219.0",
         "257"
        ],
        [
         "2",
         "121551",
         "178.0",
         "484"
        ],
        [
         "3",
         "121885",
         "216.0",
         "363"
        ],
        [
         "4",
         "117561",
         "281.0",
         "388"
        ]
       ],
       "shape": {
        "columns": 3,
        "rows": 5
       }
      },
      "text/html": [
       "<div>\n",
       "<style scoped>\n",
       "    .dataframe tbody tr th:only-of-type {\n",
       "        vertical-align: middle;\n",
       "    }\n",
       "\n",
       "    .dataframe tbody tr th {\n",
       "        vertical-align: top;\n",
       "    }\n",
       "\n",
       "    .dataframe thead th {\n",
       "        text-align: right;\n",
       "    }\n",
       "</style>\n",
       "<table border=\"1\" class=\"dataframe\">\n",
       "  <thead>\n",
       "    <tr style=\"text-align: right;\">\n",
       "      <th></th>\n",
       "      <th>track_id</th>\n",
       "      <th>duration</th>\n",
       "      <th>caption_chars</th>\n",
       "    </tr>\n",
       "  </thead>\n",
       "  <tbody>\n",
       "    <tr>\n",
       "      <th>0</th>\n",
       "      <td>121251</td>\n",
       "      <td>254.0</td>\n",
       "      <td>489</td>\n",
       "    </tr>\n",
       "    <tr>\n",
       "      <th>1</th>\n",
       "      <td>120968</td>\n",
       "      <td>219.0</td>\n",
       "      <td>257</td>\n",
       "    </tr>\n",
       "    <tr>\n",
       "      <th>2</th>\n",
       "      <td>121551</td>\n",
       "      <td>178.0</td>\n",
       "      <td>484</td>\n",
       "    </tr>\n",
       "    <tr>\n",
       "      <th>3</th>\n",
       "      <td>121885</td>\n",
       "      <td>216.0</td>\n",
       "      <td>363</td>\n",
       "    </tr>\n",
       "    <tr>\n",
       "      <th>4</th>\n",
       "      <td>117561</td>\n",
       "      <td>281.0</td>\n",
       "      <td>388</td>\n",
       "    </tr>\n",
       "  </tbody>\n",
       "</table>\n",
       "</div>"
      ],
      "text/plain": [
       "  track_id  duration  caption_chars\n",
       "0   121251     254.0            489\n",
       "1   120968     219.0            257\n",
       "2   121551     178.0            484\n",
       "3   121885     216.0            363\n",
       "4   117561     281.0            388"
      ]
     },
     "execution_count": 7,
     "metadata": {},
     "output_type": "execute_result"
    }
   ],
   "source": [
    "caption_index = {}\n",
    "caption_path = hf_hub_download(jamendo_repo, filename=\"final_caption30sec.jsonl\", repo_type=\"dataset\")\n",
    "with open(caption_path, \"r\", encoding=\"utf-8\") as handle:\n",
    "    for line in handle:\n",
    "        item = json.loads(line)\n",
    "        track_id = str(item.get(\"id\"))\n",
    "        text = item.get(\"caption\")\n",
    "        if track_id and isinstance(text, str):\n",
    "            caption_index[track_id] = text.strip()\n",
    "\n",
    "jamendo_df[\"caption\"] = jamendo_df[\"track_id\"].map(caption_index).fillna(\"\")\n",
    "jamendo_df[\"caption_chars\"] = jamendo_df[\"caption\"].apply(len)\n",
    "jamendo_df[\"caption_words\"] = jamendo_df[\"caption\"].apply(lambda text: len(text.split()) if text else 0)\n",
    "jamendo_df[[\"track_id\", \"duration\", \"caption_chars\"]].head()\n"
   ]
  },
  {
   "cell_type": "code",
   "execution_count": 8,
   "id": "ec9a25a4",
   "metadata": {},
   "outputs": [
    {
     "data": {
      "application/vnd.microsoft.datawrangler.viewer.v0+json": {
       "columns": [
        {
         "name": "index",
         "rawType": "int64",
         "type": "integer"
        },
        {
         "name": "caption",
         "rawType": "object",
         "type": "string"
        },
        {
         "name": "duration",
         "rawType": "float64",
         "type": "float"
        },
        {
         "name": "caption_chars",
         "rawType": "int64",
         "type": "integer"
        },
        {
         "name": "caption_words",
         "rawType": "int64",
         "type": "integer"
        }
       ],
       "ref": "bc90f41b-c18f-4970-b5ae-475f0b669d38",
       "rows": [
        [
         "0",
         "Electronic music that has a constant melody throughout with accompanying instruments used to supplement the melody which can be heard in possibly a casual setting",
         "202.5",
         "162",
         "25"
        ],
        [
         "1",
         "acoustic guitar solo track with consistent rhythm and repeating progression, suitable for a relaxing afternoon tea",
         "140.2",
         "114",
         "16"
        ],
        [
         "2",
         "Upbeat fast tempo with a blues rock feel that one can dance",
         "160.1",
         "59",
         "12"
        ],
        [
         "3",
         "A classic chord progression used in a playful way to give sound for sunny day.",
         "160.1",
         "78",
         "15"
        ],
        [
         "4",
         "Uplifting English rock and roll song with a positive feeling.",
         "160.1",
         "61",
         "10"
        ]
       ],
       "shape": {
        "columns": 4,
        "rows": 5
       }
      },
      "text/html": [
       "<div>\n",
       "<style scoped>\n",
       "    .dataframe tbody tr th:only-of-type {\n",
       "        vertical-align: middle;\n",
       "    }\n",
       "\n",
       "    .dataframe tbody tr th {\n",
       "        vertical-align: top;\n",
       "    }\n",
       "\n",
       "    .dataframe thead th {\n",
       "        text-align: right;\n",
       "    }\n",
       "</style>\n",
       "<table border=\"1\" class=\"dataframe\">\n",
       "  <thead>\n",
       "    <tr style=\"text-align: right;\">\n",
       "      <th></th>\n",
       "      <th>caption</th>\n",
       "      <th>duration</th>\n",
       "      <th>caption_chars</th>\n",
       "      <th>caption_words</th>\n",
       "    </tr>\n",
       "  </thead>\n",
       "  <tbody>\n",
       "    <tr>\n",
       "      <th>0</th>\n",
       "      <td>Electronic music that has a constant melody th...</td>\n",
       "      <td>202.5</td>\n",
       "      <td>162</td>\n",
       "      <td>25</td>\n",
       "    </tr>\n",
       "    <tr>\n",
       "      <th>1</th>\n",
       "      <td>acoustic guitar solo track with consistent rhy...</td>\n",
       "      <td>140.2</td>\n",
       "      <td>114</td>\n",
       "      <td>16</td>\n",
       "    </tr>\n",
       "    <tr>\n",
       "      <th>2</th>\n",
       "      <td>Upbeat fast tempo with a blues rock feel that ...</td>\n",
       "      <td>160.1</td>\n",
       "      <td>59</td>\n",
       "      <td>12</td>\n",
       "    </tr>\n",
       "    <tr>\n",
       "      <th>3</th>\n",
       "      <td>A classic chord progression used in a playful ...</td>\n",
       "      <td>160.1</td>\n",
       "      <td>78</td>\n",
       "      <td>15</td>\n",
       "    </tr>\n",
       "    <tr>\n",
       "      <th>4</th>\n",
       "      <td>Uplifting English rock and roll song with a po...</td>\n",
       "      <td>160.1</td>\n",
       "      <td>61</td>\n",
       "      <td>10</td>\n",
       "    </tr>\n",
       "  </tbody>\n",
       "</table>\n",
       "</div>"
      ],
      "text/plain": [
       "                                             caption  duration  caption_chars  \\\n",
       "0  Electronic music that has a constant melody th...     202.5            162   \n",
       "1  acoustic guitar solo track with consistent rhy...     140.2            114   \n",
       "2  Upbeat fast tempo with a blues rock feel that ...     160.1             59   \n",
       "3  A classic chord progression used in a playful ...     160.1             78   \n",
       "4  Uplifting English rock and roll song with a po...     160.1             61   \n",
       "\n",
       "   caption_words  \n",
       "0             25  \n",
       "1             16  \n",
       "2             12  \n",
       "3             15  \n",
       "4             10  "
      ]
     },
     "execution_count": 8,
     "metadata": {},
     "output_type": "execute_result"
    }
   ],
   "source": [
    "song_dataset = load_dataset(song_repo, split=\"train\")\n",
    "limit = min(len(song_dataset), 5000)\n",
    "song_slice = song_dataset.select(range(limit))\n",
    "song_df = song_slice.to_pandas()[['caption', 'duration']].copy()\n",
    "song_df['caption'] = song_df['caption'].astype(str)\n",
    "song_df['caption_chars'] = song_df['caption'].apply(len)\n",
    "song_df['caption_words'] = song_df['caption'].apply(lambda text: len(text.split()) if text else 0)\n",
    "song_df.head()\n"
   ]
  },
  {
   "cell_type": "code",
   "execution_count": 9,
   "id": "0f344dc1",
   "metadata": {},
   "outputs": [
    {
     "data": {
      "text/plain": [
       "[('electronic', 1085),\n",
       " ('rock', 577),\n",
       " ('ambient', 489),\n",
       " ('techno', 229),\n",
       " ('pop', 164),\n",
       " ('filmscore', 148),\n",
       " ('experimental', 123),\n",
       " ('downtempo', 118),\n",
       " ('chillout', 117),\n",
       " ('dance', 106)]"
      ]
     },
     "execution_count": 9,
     "metadata": {},
     "output_type": "execute_result"
    }
   ],
   "source": [
    "jamendo_genre_counts = Counter()\n",
    "for values in jamendo_df[\"genres\"]:\n",
    "    for genre in values:\n",
    "        cleaned = genre.strip().lower()\n",
    "        if cleaned:\n",
    "            jamendo_genre_counts[cleaned] += 1\n",
    "\n",
    "jamendo_genre_vocab = set(jamendo_genre_counts.keys())\n",
    "jamendo_genre_counts.most_common(10)\n"
   ]
  },
  {
   "cell_type": "code",
   "execution_count": 10,
   "id": "fb9e5816",
   "metadata": {},
   "outputs": [
    {
     "data": {
      "text/plain": [
       "[('rock', 98),\n",
       " ('pop', 79),\n",
       " ('electronic', 77),\n",
       " ('folk', 26),\n",
       " ('jazz', 24),\n",
       " ('classical', 24),\n",
       " ('dance', 23),\n",
       " ('indie', 23),\n",
       " ('ambient', 21),\n",
       " ('intro', 19)]"
      ]
     },
     "execution_count": 10,
     "metadata": {},
     "output_type": "execute_result"
    }
   ],
   "source": [
    "song_genre_counts = Counter()\n",
    "for caption in song_df[\"caption\"]:\n",
    "    tokens = set(token.strip(\",!?()\\\"'\").lower() for token in caption.split())\n",
    "    for genre in jamendo_genre_vocab:\n",
    "        if genre in tokens:\n",
    "            song_genre_counts[genre] += 1\n",
    "\n",
    "song_genre_counts.most_common(10)\n"
   ]
  },
  {
   "cell_type": "code",
   "execution_count": 12,
   "id": "c519268d",
   "metadata": {},
   "outputs": [
    {
     "data": {
      "application/vnd.microsoft.datawrangler.viewer.v0+json": {
       "columns": [
        {
         "name": "index",
         "rawType": "object",
         "type": "string"
        },
        {
         "name": "Jamendo",
         "rawType": "float64",
         "type": "float"
        },
        {
         "name": "Song Describer",
         "rawType": "float64",
         "type": "float"
        }
       ],
       "ref": "5288c346-8d4f-4d12-8e17-65a1db041db9",
       "rows": [
        [
         "count",
         "5000.0",
         "746.0"
        ],
        [
         "mean_sec",
         "261.148",
         "222.4017426273458"
        ],
        [
         "median_sec",
         "227.0",
         "216.0"
        ],
        [
         "std_sec",
         "218.69279870183382",
         "74.73371581045846"
        ],
        [
         "min_sec",
         "5.0",
         "34.0"
        ],
        [
         "max_sec",
         "4037.0",
         "666.0"
        ]
       ],
       "shape": {
        "columns": 2,
        "rows": 6
       }
      },
      "text/html": [
       "<div>\n",
       "<style scoped>\n",
       "    .dataframe tbody tr th:only-of-type {\n",
       "        vertical-align: middle;\n",
       "    }\n",
       "\n",
       "    .dataframe tbody tr th {\n",
       "        vertical-align: top;\n",
       "    }\n",
       "\n",
       "    .dataframe thead th {\n",
       "        text-align: right;\n",
       "    }\n",
       "</style>\n",
       "<table border=\"1\" class=\"dataframe\">\n",
       "  <thead>\n",
       "    <tr style=\"text-align: right;\">\n",
       "      <th></th>\n",
       "      <th>Jamendo</th>\n",
       "      <th>Song Describer</th>\n",
       "    </tr>\n",
       "  </thead>\n",
       "  <tbody>\n",
       "    <tr>\n",
       "      <th>count</th>\n",
       "      <td>5000.000000</td>\n",
       "      <td>746.000000</td>\n",
       "    </tr>\n",
       "    <tr>\n",
       "      <th>mean_sec</th>\n",
       "      <td>261.148000</td>\n",
       "      <td>222.401743</td>\n",
       "    </tr>\n",
       "    <tr>\n",
       "      <th>median_sec</th>\n",
       "      <td>227.000000</td>\n",
       "      <td>216.000000</td>\n",
       "    </tr>\n",
       "    <tr>\n",
       "      <th>std_sec</th>\n",
       "      <td>218.692799</td>\n",
       "      <td>74.733716</td>\n",
       "    </tr>\n",
       "    <tr>\n",
       "      <th>min_sec</th>\n",
       "      <td>5.000000</td>\n",
       "      <td>34.000000</td>\n",
       "    </tr>\n",
       "    <tr>\n",
       "      <th>max_sec</th>\n",
       "      <td>4037.000000</td>\n",
       "      <td>666.000000</td>\n",
       "    </tr>\n",
       "  </tbody>\n",
       "</table>\n",
       "</div>"
      ],
      "text/plain": [
       "                Jamendo  Song Describer\n",
       "count       5000.000000      746.000000\n",
       "mean_sec     261.148000      222.401743\n",
       "median_sec   227.000000      216.000000\n",
       "std_sec      218.692799       74.733716\n",
       "min_sec        5.000000       34.000000\n",
       "max_sec     4037.000000      666.000000"
      ]
     },
     "execution_count": 12,
     "metadata": {},
     "output_type": "execute_result"
    }
   ],
   "source": [
    "jamendo_duration_series = jamendo_df[\"duration\"].dropna()\n",
    "song_duration_series = pd.Series([value for value in song_df[\"duration\"] if isinstance(value, (int, float))])\n",
    "\n",
    "duration_summary = pd.DataFrame({\n",
    "    \"Jamendo\": [\n",
    "        jamendo_duration_series.count(),\n",
    "        jamendo_duration_series.mean(),\n",
    "        jamendo_duration_series.median(),\n",
    "        jamendo_duration_series.std(),\n",
    "        jamendo_duration_series.min(),\n",
    "        jamendo_duration_series.max(),\n",
    "    ],\n",
    "    \"Song Describer\": [\n",
    "        song_duration_series.count(),\n",
    "        song_duration_series.mean(),\n",
    "        song_duration_series.median(),\n",
    "        song_duration_series.std(),\n",
    "        song_duration_series.min(),\n",
    "        song_duration_series.max(),\n",
    "    ],\n",
    "}, index=[\"count\", \"mean_sec\", \"median_sec\", \"std_sec\", \"min_sec\", \"max_sec\"])\n",
    "\n",
    "duration_summary\n"
   ]
  },
  {
   "cell_type": "code",
   "execution_count": 13,
   "id": "586658e6",
   "metadata": {},
   "outputs": [
    {
     "data": {
      "application/vnd.microsoft.datawrangler.viewer.v0+json": {
       "columns": [
        {
         "name": "index",
         "rawType": "object",
         "type": "string"
        },
        {
         "name": "Jamendo",
         "rawType": "float64",
         "type": "float"
        },
        {
         "name": "Song Describer",
         "rawType": "float64",
         "type": "float"
        }
       ],
       "ref": "df7de9ef-22e7-4a2f-b0a7-9ca7c2482e86",
       "rows": [
        [
         "count",
         "5000.0",
         "746.0"
        ],
        [
         "mean_chars",
         "359.7088",
         "100.17426273458445"
        ],
        [
         "median_chars",
         "353.0",
         "93.0"
        ],
        [
         "mean_words",
         "61.3964",
         "16.82171581769437"
        ],
        [
         "median_words",
         "61.0",
         "15.0"
        ]
       ],
       "shape": {
        "columns": 2,
        "rows": 5
       }
      },
      "text/html": [
       "<div>\n",
       "<style scoped>\n",
       "    .dataframe tbody tr th:only-of-type {\n",
       "        vertical-align: middle;\n",
       "    }\n",
       "\n",
       "    .dataframe tbody tr th {\n",
       "        vertical-align: top;\n",
       "    }\n",
       "\n",
       "    .dataframe thead th {\n",
       "        text-align: right;\n",
       "    }\n",
       "</style>\n",
       "<table border=\"1\" class=\"dataframe\">\n",
       "  <thead>\n",
       "    <tr style=\"text-align: right;\">\n",
       "      <th></th>\n",
       "      <th>Jamendo</th>\n",
       "      <th>Song Describer</th>\n",
       "    </tr>\n",
       "  </thead>\n",
       "  <tbody>\n",
       "    <tr>\n",
       "      <th>count</th>\n",
       "      <td>5000.0000</td>\n",
       "      <td>746.000000</td>\n",
       "    </tr>\n",
       "    <tr>\n",
       "      <th>mean_chars</th>\n",
       "      <td>359.7088</td>\n",
       "      <td>100.174263</td>\n",
       "    </tr>\n",
       "    <tr>\n",
       "      <th>median_chars</th>\n",
       "      <td>353.0000</td>\n",
       "      <td>93.000000</td>\n",
       "    </tr>\n",
       "    <tr>\n",
       "      <th>mean_words</th>\n",
       "      <td>61.3964</td>\n",
       "      <td>16.821716</td>\n",
       "    </tr>\n",
       "    <tr>\n",
       "      <th>median_words</th>\n",
       "      <td>61.0000</td>\n",
       "      <td>15.000000</td>\n",
       "    </tr>\n",
       "  </tbody>\n",
       "</table>\n",
       "</div>"
      ],
      "text/plain": [
       "                Jamendo  Song Describer\n",
       "count         5000.0000      746.000000\n",
       "mean_chars     359.7088      100.174263\n",
       "median_chars   353.0000       93.000000\n",
       "mean_words      61.3964       16.821716\n",
       "median_words    61.0000       15.000000"
      ]
     },
     "execution_count": 13,
     "metadata": {},
     "output_type": "execute_result"
    }
   ],
   "source": [
    "jamendo_text_summary = pd.Series({\n",
    "    \"count\": jamendo_df[\"caption_chars\"].count(),\n",
    "    \"mean_chars\": jamendo_df[\"caption_chars\"].mean(),\n",
    "    \"median_chars\": jamendo_df[\"caption_chars\"].median(),\n",
    "    \"mean_words\": jamendo_df[\"caption_words\"].mean(),\n",
    "    \"median_words\": jamendo_df[\"caption_words\"].median(),\n",
    "})\n",
    "\n",
    "song_text_summary = pd.Series({\n",
    "    \"count\": song_df[\"caption_chars\"].count(),\n",
    "    \"mean_chars\": song_df[\"caption_chars\"].mean(),\n",
    "    \"median_chars\": song_df[\"caption_chars\"].median(),\n",
    "    \"mean_words\": song_df[\"caption_words\"].mean(),\n",
    "    \"median_words\": song_df[\"caption_words\"].median(),\n",
    "})\n",
    "\n",
    "pd.concat([jamendo_text_summary.rename(\"Jamendo\"), song_text_summary.rename(\"Song Describer\")], axis=1)\n"
   ]
  },
  {
   "cell_type": "code",
   "execution_count": 14,
   "id": "109ca76c",
   "metadata": {},
   "outputs": [
    {
     "data": {
      "application/vnd.microsoft.datawrangler.viewer.v0+json": {
       "columns": [
        {
         "name": "index",
         "rawType": "object",
         "type": "string"
        },
        {
         "name": "Jamendo",
         "rawType": "int64",
         "type": "integer"
        },
        {
         "name": "Song Describer",
         "rawType": "int64",
         "type": "integer"
        }
       ],
       "ref": "7f862c66-05e3-45bf-9701-54613b0dff44",
       "rows": [
        [
         "electronic",
         "1085",
         "77"
        ],
        [
         "rock",
         "577",
         "98"
        ],
        [
         "ambient",
         "489",
         "21"
        ],
        [
         "techno",
         "229",
         "7"
        ],
        [
         "pop",
         "164",
         "79"
        ],
        [
         "filmscore",
         "148",
         "0"
        ],
        [
         "experimental",
         "123",
         "9"
        ],
        [
         "downtempo",
         "118",
         "0"
        ],
        [
         "chillout",
         "117",
         "0"
        ],
        [
         "dance",
         "106",
         "23"
        ],
        [
         "world",
         "101",
         "0"
        ],
        [
         "jazz",
         "99",
         "24"
        ],
        [
         "trance",
         "79",
         "0"
        ],
        [
         "metal",
         "71",
         "14"
        ],
        [
         "drumnbass",
         "70",
         "0"
        ],
        [
         "breakbeat",
         "70",
         "0"
        ],
        [
         "electrorock",
         "56",
         "0"
        ],
        [
         "newage",
         "55",
         "0"
        ],
        [
         "classical",
         "47",
         "24"
        ],
        [
         "triphop",
         "44",
         "0"
        ],
        [
         "folk",
         "0",
         "26"
        ],
        [
         "indie",
         "0",
         "23"
        ],
        [
         "country",
         "0",
         "19"
        ],
        [
         "intro",
         "0",
         "19"
        ],
        [
         "latin",
         "0",
         "15"
        ],
        [
         "rap",
         "0",
         "15"
        ],
        [
         "blues",
         "0",
         "13"
        ],
        [
         "edm",
         "0",
         "9"
        ],
        [
         "punk",
         "0",
         "7"
        ],
        [
         "african",
         "0",
         "6"
        ]
       ],
       "shape": {
        "columns": 2,
        "rows": 30
       }
      },
      "text/html": [
       "<div>\n",
       "<style scoped>\n",
       "    .dataframe tbody tr th:only-of-type {\n",
       "        vertical-align: middle;\n",
       "    }\n",
       "\n",
       "    .dataframe tbody tr th {\n",
       "        vertical-align: top;\n",
       "    }\n",
       "\n",
       "    .dataframe thead th {\n",
       "        text-align: right;\n",
       "    }\n",
       "</style>\n",
       "<table border=\"1\" class=\"dataframe\">\n",
       "  <thead>\n",
       "    <tr style=\"text-align: right;\">\n",
       "      <th></th>\n",
       "      <th>Jamendo</th>\n",
       "      <th>Song Describer</th>\n",
       "    </tr>\n",
       "  </thead>\n",
       "  <tbody>\n",
       "    <tr>\n",
       "      <th>electronic</th>\n",
       "      <td>1085</td>\n",
       "      <td>77</td>\n",
       "    </tr>\n",
       "    <tr>\n",
       "      <th>rock</th>\n",
       "      <td>577</td>\n",
       "      <td>98</td>\n",
       "    </tr>\n",
       "    <tr>\n",
       "      <th>ambient</th>\n",
       "      <td>489</td>\n",
       "      <td>21</td>\n",
       "    </tr>\n",
       "    <tr>\n",
       "      <th>techno</th>\n",
       "      <td>229</td>\n",
       "      <td>7</td>\n",
       "    </tr>\n",
       "    <tr>\n",
       "      <th>pop</th>\n",
       "      <td>164</td>\n",
       "      <td>79</td>\n",
       "    </tr>\n",
       "    <tr>\n",
       "      <th>filmscore</th>\n",
       "      <td>148</td>\n",
       "      <td>0</td>\n",
       "    </tr>\n",
       "    <tr>\n",
       "      <th>experimental</th>\n",
       "      <td>123</td>\n",
       "      <td>9</td>\n",
       "    </tr>\n",
       "    <tr>\n",
       "      <th>downtempo</th>\n",
       "      <td>118</td>\n",
       "      <td>0</td>\n",
       "    </tr>\n",
       "    <tr>\n",
       "      <th>chillout</th>\n",
       "      <td>117</td>\n",
       "      <td>0</td>\n",
       "    </tr>\n",
       "    <tr>\n",
       "      <th>dance</th>\n",
       "      <td>106</td>\n",
       "      <td>23</td>\n",
       "    </tr>\n",
       "    <tr>\n",
       "      <th>world</th>\n",
       "      <td>101</td>\n",
       "      <td>0</td>\n",
       "    </tr>\n",
       "    <tr>\n",
       "      <th>jazz</th>\n",
       "      <td>99</td>\n",
       "      <td>24</td>\n",
       "    </tr>\n",
       "    <tr>\n",
       "      <th>trance</th>\n",
       "      <td>79</td>\n",
       "      <td>0</td>\n",
       "    </tr>\n",
       "    <tr>\n",
       "      <th>metal</th>\n",
       "      <td>71</td>\n",
       "      <td>14</td>\n",
       "    </tr>\n",
       "    <tr>\n",
       "      <th>drumnbass</th>\n",
       "      <td>70</td>\n",
       "      <td>0</td>\n",
       "    </tr>\n",
       "    <tr>\n",
       "      <th>breakbeat</th>\n",
       "      <td>70</td>\n",
       "      <td>0</td>\n",
       "    </tr>\n",
       "    <tr>\n",
       "      <th>electrorock</th>\n",
       "      <td>56</td>\n",
       "      <td>0</td>\n",
       "    </tr>\n",
       "    <tr>\n",
       "      <th>newage</th>\n",
       "      <td>55</td>\n",
       "      <td>0</td>\n",
       "    </tr>\n",
       "    <tr>\n",
       "      <th>classical</th>\n",
       "      <td>47</td>\n",
       "      <td>24</td>\n",
       "    </tr>\n",
       "    <tr>\n",
       "      <th>triphop</th>\n",
       "      <td>44</td>\n",
       "      <td>0</td>\n",
       "    </tr>\n",
       "    <tr>\n",
       "      <th>folk</th>\n",
       "      <td>0</td>\n",
       "      <td>26</td>\n",
       "    </tr>\n",
       "    <tr>\n",
       "      <th>indie</th>\n",
       "      <td>0</td>\n",
       "      <td>23</td>\n",
       "    </tr>\n",
       "    <tr>\n",
       "      <th>country</th>\n",
       "      <td>0</td>\n",
       "      <td>19</td>\n",
       "    </tr>\n",
       "    <tr>\n",
       "      <th>intro</th>\n",
       "      <td>0</td>\n",
       "      <td>19</td>\n",
       "    </tr>\n",
       "    <tr>\n",
       "      <th>latin</th>\n",
       "      <td>0</td>\n",
       "      <td>15</td>\n",
       "    </tr>\n",
       "    <tr>\n",
       "      <th>rap</th>\n",
       "      <td>0</td>\n",
       "      <td>15</td>\n",
       "    </tr>\n",
       "    <tr>\n",
       "      <th>blues</th>\n",
       "      <td>0</td>\n",
       "      <td>13</td>\n",
       "    </tr>\n",
       "    <tr>\n",
       "      <th>edm</th>\n",
       "      <td>0</td>\n",
       "      <td>9</td>\n",
       "    </tr>\n",
       "    <tr>\n",
       "      <th>punk</th>\n",
       "      <td>0</td>\n",
       "      <td>7</td>\n",
       "    </tr>\n",
       "    <tr>\n",
       "      <th>african</th>\n",
       "      <td>0</td>\n",
       "      <td>6</td>\n",
       "    </tr>\n",
       "  </tbody>\n",
       "</table>\n",
       "</div>"
      ],
      "text/plain": [
       "              Jamendo  Song Describer\n",
       "electronic       1085              77\n",
       "rock              577              98\n",
       "ambient           489              21\n",
       "techno            229               7\n",
       "pop               164              79\n",
       "filmscore         148               0\n",
       "experimental      123               9\n",
       "downtempo         118               0\n",
       "chillout          117               0\n",
       "dance             106              23\n",
       "world             101               0\n",
       "jazz               99              24\n",
       "trance             79               0\n",
       "metal              71              14\n",
       "drumnbass          70               0\n",
       "breakbeat          70               0\n",
       "electrorock        56               0\n",
       "newage             55               0\n",
       "classical          47              24\n",
       "triphop            44               0\n",
       "folk                0              26\n",
       "indie               0              23\n",
       "country             0              19\n",
       "intro               0              19\n",
       "latin               0              15\n",
       "rap                 0              15\n",
       "blues               0              13\n",
       "edm                 0               9\n",
       "punk                0               7\n",
       "african             0               6"
      ]
     },
     "execution_count": 14,
     "metadata": {},
     "output_type": "execute_result"
    }
   ],
   "source": [
    "jamendo_genre_table = pd.Series(jamendo_genre_counts).sort_values(ascending=False).head(20)\n",
    "song_genre_table = pd.Series(song_genre_counts).sort_values(ascending=False).head(20)\n",
    "\n",
    "pd.concat([\n",
    "    jamendo_genre_table.rename(\"Jamendo\"),\n",
    "    song_genre_table.rename(\"Song Describer\"),\n",
    "], axis=1).fillna(0).astype(int)\n"
   ]
  }
 ],
 "metadata": {
  "kernelspec": {
   "display_name": "Python 3",
   "language": "python",
   "name": "python3"
  },
  "language_info": {
   "name": "python",
   "version": "3.10"
  }
 },
 "nbformat": 4,
 "nbformat_minor": 5
}
