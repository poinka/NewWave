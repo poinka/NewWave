{
 "cells": [
  {
   "cell_type": "markdown",
   "metadata": {},
   "source": [
    "# Jamendo vs Song Describer EDA\n",
    "\n",
    "Exploratory analysis comparing metadata from the JamendoMaxCaps and Song Describer datasets without downloading audio assets.\n"
   ]
  },
  {
   "cell_type": "markdown",
   "metadata": {},
   "source": [
    "## Setup\n",
    "- The notebook streams rows via the Hugging Face datasets API and disables audio decoding, so no audio files are downloaded.\n",
    "- Adjust the `MAX_*` constants to balance runtime and coverage.\n"
   ]
  },
  {
   "cell_type": "code",
   "execution_count": 12,
   "id": "c138fa6e",
   "metadata": {},
   "outputs": [],
   "source": [
    "from collections import Counter\n",
    "from typing import Dict, Optional, Sequence, Set\n",
    "\n",
    "import matplotlib.pyplot as plt\n",
    "import numpy as np\n",
    "import pandas as pd\n",
    "from datasets import Audio, load_dataset\n",
    "from huggingface_hub import hf_hub_download, list_repo_files\n",
    "from tqdm.auto import tqdm\n",
    "\n",
    "import clap\n",
    "from clap import _infer_audio_duration\n",
    "\n",
    "plt.style.use(\"seaborn-v0_8\")\n"
   ]
  },
  {
   "cell_type": "code",
   "execution_count": 13,
   "id": "29f7bfa3",
   "metadata": {},
   "outputs": [],
   "source": [
    "# Configuration for dataset sampling and analysis\n",
    "JAMENDO_DATASET_ID = \"amaai-lab/JamendoMaxCaps\"\n",
    "SONG_DESCRIBER_DATASET_ID = \"renumics/song-describer-dataset\"\n",
    "\n",
    "MAX_JAMENDO_RECORDS = 750  # adjust if you want more rows (decoding each track is costly)\n",
    "MAX_SONG_DESCRIBER_RECORDS = 3000\n",
    "\n",
    "GENRE_KEYWORDS = [\n",
    "    \"rock\",\n",
    "    \"pop\",\n",
    "    \"electronic\",\n",
    "    \"edm\",\n",
    "    \"house\",\n",
    "    \"techno\",\n",
    "    \"trance\",\n",
    "    \"dubstep\",\n",
    "    \"drum and bass\",\n",
    "    \"drum n bass\",\n",
    "    \"drum'n'bass\",\n",
    "    \"hip hop\",\n",
    "    \"hip-hop\",\n",
    "    \"rap\",\n",
    "    \"trap\",\n",
    "    \"r&b\",\n",
    "    \"soul\",\n",
    "    \"funk\",\n",
    "    \"jazz\",\n",
    "    \"blues\",\n",
    "    \"classical\",\n",
    "    \"orchestral\",\n",
    "    \"ambient\",\n",
    "    \"lofi\",\n",
    "    \"lo fi\",\n",
    "    \"lo-fi\",\n",
    "    \"chillout\",\n",
    "    \"metal\",\n",
    "    \"punk\",\n",
    "    \"country\",\n",
    "    \"folk\",\n",
    "    \"latin\",\n",
    "    \"reggae\",\n",
    "    \"world\",\n",
    "    \"acoustic\",\n",
    "    \"soundtrack\",\n",
    "    \"cinematic\",\n",
    "    \"industrial\",\n",
    "    \"disco\",\n",
    "    \"garage\",\n",
    "    \"grunge\",\n",
    "    \"emo\",\n",
    "    \"gospel\",\n",
    "    \"opera\",\n",
    "    \"k-pop\",\n",
    "    \"c-pop\",\n",
    "JAMENDO_METADATA_ONLY = True\n",
    "MAX_JAMENDO_METADATA_FILES = 20\n",
    "]\n",
    "\n",
    "GENRE_ALIASES = {\n",
    "    \"hip-hop\": \"hip hop\",\n",
    "    \"drum n bass\": \"drum and bass\",\n",
    "    \"drum'n'bass\": \"drum and bass\",\n",
    "    \"edm\": \"electronic\",\n",
    "    \"lofi\": \"lo-fi\",\n",
    "    \"lo fi\": \"lo-fi\",\n",
    "}\n"
   ]
  },
  {
   "cell_type": "code",
   "execution_count": 14,
   "id": "b749bbb3",
   "metadata": {},
   "outputs": [],
   "source": [
    "def canonical_genre(label: str) -> str:\n",
    "    clean = (label or \"\").strip().lower()\n",
    "    if not clean:\n",
    "        return \"\"\n",
    "    return GENRE_ALIASES.get(clean, clean)\n",
    "\n",
    "\n",
    "def detect_genres_from_caption(text: str) -> Set[str]:\n",
    "    if not isinstance(text, str):\n",
    "        return set()\n",
    "    lower = text.lower()\n",
    "    hits = set()\n",
    "    for keyword in GENRE_KEYWORDS:\n",
    "        if keyword in lower:\n",
    "            canonical = canonical_genre(keyword)\n",
    "            if canonical:\n",
    "                hits.add(canonical)\n",
    "    return hits\n",
    "\n",
    "\n",
    "def summarize_durations(durations: Sequence[float]) -> pd.Series:\n",
    "    values = [float(d) for d in durations if isinstance(d, (int, float))]\n",
    "    arr = np.asarray(values, dtype=np.float64)\n",
    "    if arr.size == 0:\n",
    "        return pd.Series(\n",
    "            {\n",
    "                \"count\": 0,\n",
    "                \"mean_sec\": np.nan,\n",
    "                \"median_sec\": np.nan,\n",
    "                \"std_sec\": np.nan,\n",
    "                \"min_sec\": np.nan,\n",
    "                \"p25_sec\": np.nan,\n",
    "                \"p75_sec\": np.nan,\n",
    "                \"max_sec\": np.nan,\n",
    "                \"mean_min\": np.nan,\n",
    "            }\n",
    "        )\n",
    "    summary = {\n",
    "        \"count\": int(arr.size),\n",
    "        \"mean_sec\": arr.mean(),\n",
    "        \"median_sec\": float(np.median(arr)),\n",
    "        \"std_sec\": float(arr.std(ddof=1)) if arr.size > 1 else 0.0,\n",
    "        \"min_sec\": float(arr.min()),\n",
    "        \"p25_sec\": float(np.percentile(arr, 25)),\n",
    "        \"p75_sec\": float(np.percentile(arr, 75)),\n",
    "        \"max_sec\": float(arr.max()),\n",
    "        \"mean_min\": arr.mean() / 60.0,\n",
    "    }\n",
    "    return pd.Series(summary)\n",
    "\n",
    "\n",
    "def counter_to_series(counter: Counter, top_n: int = 20) -> pd.Series:\n",
    "    if not counter:\n",
    "        return pd.Series(dtype=int)\n",
    "    series = pd.Series(counter).sort_values(ascending=False)\n",
    "    if top_n:\n",
    "        series = series.head(top_n)\n",
    "    return series\n",
    "\n",
    "\n",
    "def jamendo_track_id_from_row(row: Dict) -> Optional[str]:\n",
    "    audio = row.get(\"audio\") if isinstance(row, dict) else None\n",
    "    if isinstance(audio, dict):\n",
    "        path = audio.get(\"path\") or audio.get(\"filepath\")\n",
    "        if isinstance(path, str):\n",
    "            return path.split(\".\")[0]\n",
    "    rid = row.get(\"id\") if isinstance(row, dict) else None\n",
    "    if isinstance(rid, (str, int)):\n",
    "        return str(rid)\n",
    "    return None\n",
    "\n",
    "\n",
    "def load_first_jamendo_row() -> Optional[Dict]:\n",
    "    dataset = load_dataset(JAMENDO_DATASET_ID, split=\"train\", streaming=True)\n",
    "    dataset = dataset.cast_column(\"audio\", Audio(decode=False))\n",
    "    iterator = iter(dataset)\n",
    "    try:\n",
    "        row = next(iterator)\n",
    "    except StopIteration:\n",
    "        return None\n",
    "    return row\n",
    "\n",
    "\n",
    "def load_first_song_row() -> Optional[Dict]:\n",
    "    dataset = load_dataset(SONG_DESCRIBER_DATASET_ID, split=\"train\", streaming=True)\n",
    "    dataset = dataset.cast_column(\"path\", Audio(decode=False))\n",
    "    iterator = iter(dataset)\n",
    "    try:\n",
    "        return next(iterator)\n",
    "    except StopIteration:\n",
    "        return None\n",
    "\n",
    "\n",
    "def sample_jamendo(max_rows: int) -> Dict[str, object]:\n",
    "    dataset = load_dataset(JAMENDO_DATASET_ID, split=\"train\", streaming=True)\n",
    "    dataset = dataset.cast_column(\"audio\", Audio(decode=False))\n",
    "    clap._ensure_captions_index()\n",
    "    captions = clap._CAPTION_BY_ID or {}\n",
    "    durations = []\n",
    "    genre_counts: Counter = Counter()\n",
    "    rows_seen = 0\n",
    "    missing_duration = 0\n",
    "    missing_caption = 0\n",
    "    for row in tqdm(dataset, total=max_rows, desc=\"Jamendo rows\", leave=False):\n",
    "        rows_seen += 1\n",
    "        audio_entry = row.get(\"audio\")\n",
    "        duration = _infer_audio_duration(audio_entry)\n",
    "        if isinstance(duration, (int, float)):\n",
    "            durations.append(float(duration))\n",
    "        else:\n",
    "            missing_duration += 1\n",
    "\n",
    "        track_id = jamendo_track_id_from_row(row)\n",
    "        caption = captions.get(track_id) if track_id else None\n",
    "        if caption:\n",
    "            for genre in detect_genres_from_caption(caption):\n",
    "                genre_counts[genre] += 1\n",
    "        else:\n",
    "            missing_caption += 1\n",
    "\n",
    "        if rows_seen >= max_rows:\n",
    "            break\n",
    "\n",
    "    return {\n",
    "        \"durations\": durations,\n",
    "        \"genre_counts\": genre_counts,\n",
    "        \"rows_seen\": rows_seen,\n",
    "        \"missing_duration\": missing_duration,\n",
    "        \"missing_caption\": missing_caption,\n",
    "    }\n",
    "\n",
    "\n",
    "def sample_song_describer(max_rows: int) -> Dict[str, object]:\n",
    "    dataset = load_dataset(SONG_DESCRIBER_DATASET_ID, split=\"train\", streaming=True)\n",
    "    dataset = dataset.cast_column(\"path\", Audio(decode=False))\n",
    "    durations = []\n",
    "    genre_counts: Counter = Counter()\n",
    "    familiarity_counts: Counter = Counter()\n",
    "    rows_seen = 0\n",
    "    missing_duration = 0\n",
    "    for row in tqdm(dataset, total=max_rows, desc=\"Song Describer rows\", leave=False):\n",
    "        rows_seen += 1\n",
    "        duration = row.get(\"duration\")\n",
    "        if isinstance(duration, (int, float)):\n",
    "            durations.append(float(duration))\n",
    "        else:\n",
    "            missing_duration += 1\n",
    "\n",
    "        for genre in detect_genres_from_caption(row.get(\"caption\")):\n",
    "            genre_counts[genre] += 1\n",
    "\n",
    "        familiarity = row.get(\"familiarity\")\n",
    "        if isinstance(familiarity, (int, float)):\n",
    "            familiarity_counts[str(int(familiarity))] += 1\n",
    "\n",
    "        if rows_seen >= max_rows:\n",
    "            break\n",
    "\n",
    "    return {\n",
    "        \"durations\": durations,\n",
    "        \"genre_counts\": genre_counts,\n",
    "        \"familiarity_counts\": familiarity_counts,\n",
    "        \"rows_seen\": rows_seen,\n",
    "        \"missing_duration\": missing_duration,\n",
    "    }\n",
    "\n",
    "jamendo_metadata_cache: Optional[list[str]] = None\n",
    "\n",
    "def get_jamendo_metadata_files(max_files: int) -> list[str]:\n",
    "    global jamendo_metadata_cache\n",
    "    if jamendo_metadata_cache is None:\n",
    "        files = list_repo_files(JAMENDO_DATASET_ID, repo_type='dataset')\n",
    "        jamendo_metadata_cache = sorted(f for f in files if f.endswith('.jsonl') and f[0].isdigit())\n",
    "    return jamendo_metadata_cache[:max(1, int(max_files))]\n",
    "\n",
    "def load_first_jamendo_meta_row(max_files: int = 5):\n",
    "    for fn in get_jamendo_metadata_files(max_files):\n",
    "        lp = hf_hub_download(JAMENDO_DATASET_ID, filename=fn, repo_type='dataset')\n",
    "        with open(lp, 'r', encoding='utf-8') as fh:\n",
    "            for line in fh:\n",
    "                line = line.strip()\n",
    "                if not line:\n",
    "                    continue\n",
    "                try:\n",
    "                    import json as _json\n",
    "                    return _json.loads(line)\n",
    "                except Exception:\n",
    "                    continue\n",
    "    return None\n",
    "\n",
    "def sample_jamendo_from_metadata(max_rows: int, max_files: int):\n",
    "    import json as _json\n",
    "    durations = []\n",
    "    genre_counts = Counter()\n",
    "    rows_seen = 0\n",
    "    for fn in get_jamendo_metadata_files(max_files):\n",
    "        if rows_seen >= max_rows:\n",
    "            break\n",
    "        lp = hf_hub_download(JAMENDO_DATASET_ID, filename=fn, repo_type='dataset')\n",
    "        with open(lp, 'r', encoding='utf-8') as fh:\n",
    "            for line in fh:\n",
    "                if rows_seen >= max_rows:\n",
    "                    break\n",
    "                line = line.strip()\n",
    "                if not line:\n",
    "                    continue\n",
    "                try:\n",
    "                    row = _json.loads(line)\n",
    "                except Exception:\n",
    "                    continue\n",
    "                rows_seen += 1\n",
    "                d = row.get('duration')\n",
    "                if isinstance(d, (int, float)):\n",
    "                    durations.append(float(d))\n",
    "                tags = ((row.get('musicinfo') or {}).get('tags') or {})\n",
    "                for g in tags.get('genres') or []:\n",
    "                    if isinstance(g, str) and g.strip():\n",
    "                        genre_counts[canonical_genre(g)] += 1\n",
    "    return {\n",
    "        'durations': durations,\n",
    "        'genre_counts': genre_counts,\n",
    "        'rows_seen': rows_seen,\n",
    "        'missing_duration': max(0, rows_seen - len(durations)),\n",
    "    }\n"
   ]
  },
  {
   "cell_type": "code",
   "execution_count": 15,
   "id": "1f8b200d",
   "metadata": {},
   "outputs": [
    {
     "data": {
      "application/vnd.jupyter.widget-view+json": {
       "model_id": "196e861d85a443d89853b453dbe21c93",
       "version_major": 2,
       "version_minor": 0
      },
      "text/plain": [
       "Resolving data files:   0%|          | 0/2272 [00:00<?, ?it/s]"
      ]
     },
     "metadata": {},
     "output_type": "display_data"
    },
    {
     "data": {
      "application/vnd.jupyter.widget-view+json": {
       "model_id": "c1369e586b0a4ecbae48929e37d5adba",
       "version_major": 2,
       "version_minor": 0
      },
      "text/plain": [
       "Resolving data files:   0%|          | 0/2272 [00:00<?, ?it/s]"
      ]
     },
     "metadata": {},
     "output_type": "display_data"
    },
    {
     "name": "stdout",
     "output_type": "stream",
     "text": [
      "Jamendo first streamed row:\n",
      "Fetching Jamendo captions JSONL index...\n",
      "{'track_id': '1000306', 'audio_keys': ['bytes', 'path'], 'duration_estimate': 381.41886621315194, 'caption_snippet': 'The music is instrumental with a prominent guitar solo in the background. It falls under rock and alternative genres, exuding an energetic m...'}\n",
      "\n",
      "Song Describer first row:\n",
      "{'caption_id': 859, 'track_id': 1004034, 'duration': 202.5, 'familiarity': 0, 'caption_snippet': 'Electronic music that has a constant melody throughout with accompanying instruments used to supplement the melody which can be heard in pos...'}\n"
     ]
    }
   ],
   "source": [
    "meta_row = load_first_jamendo_meta_row()\n",
    "print('Jamendo first metadata row (duration, genres):')\n",
    "if meta_row:\n",
    "    print({'duration': meta_row.get('duration'), 'genres': ((meta_row.get('musicinfo') or {}).get('tags') or {}).get('genres')})\n",
    "else:\n",
    "    print('No metadata row found')\n",
    "\n",
    "jamendo_row = load_first_jamendo_row()\n",
    "print(\"Jamendo first streamed row:\")\n",
    "if jamendo_row:\n",
    "    track_id = jamendo_track_id_from_row(jamendo_row)\n",
    "    clap._ensure_captions_index()\n",
    "    caption = (clap._CAPTION_BY_ID or {}).get(track_id)\n",
    "    preview = {\n",
    "        \"track_id\": track_id,\n",
    "        \"audio_keys\": sorted(jamendo_row.get(\"audio\", {}).keys()),\n",
    "        \"duration_estimate\": _infer_audio_duration(jamendo_row.get(\"audio\")),\n",
    "        \"caption_snippet\": (caption[:140] + \"...\") if isinstance(caption, str) and len(caption) > 140 else caption,\n",
    "    }\n",
    "    print(preview)\n",
    "else:\n",
    "    print(\"No Jamendo rows available.\")\n",
    "\n",
    "song_row = load_first_song_row()\n",
    "print(\"\\nSong Describer first row:\")\n",
    "if song_row:\n",
    "    preview = {\n",
    "        \"caption_id\": song_row.get(\"caption_id\"),\n",
    "        \"track_id\": song_row.get(\"track_id\"),\n",
    "        \"duration\": song_row.get(\"duration\"),\n",
    "        \"familiarity\": song_row.get(\"familiarity\"),\n",
    "        \"caption_snippet\": (song_row.get(\"caption\")[:140] + \"...\") if isinstance(song_row.get(\"caption\"), str) and len(song_row.get(\"caption\")) > 140 else song_row.get(\"caption\"),\n",
    "    }\n",
    "    print(preview)\n",
    "else:\n",
    "    print(\"No Song Describer rows available.\")\n"
   ]
  },
  {
   "cell_type": "code",
   "execution_count": 16,
   "id": "5a808087",
   "metadata": {},
   "outputs": [
    {
     "data": {
      "application/vnd.jupyter.widget-view+json": {
       "model_id": "0ca6344d49eb4d05a342dd8f9b9b5c30",
       "version_major": 2,
       "version_minor": 0
      },
      "text/plain": [
       "Resolving data files:   0%|          | 0/2272 [00:00<?, ?it/s]"
      ]
     },
     "metadata": {},
     "output_type": "display_data"
    },
    {
     "data": {
      "application/vnd.jupyter.widget-view+json": {
       "model_id": "4366b9cf2c1d430a896bbbbe530193a4",
       "version_major": 2,
       "version_minor": 0
      },
      "text/plain": [
       "Resolving data files:   0%|          | 0/2272 [00:00<?, ?it/s]"
      ]
     },
     "metadata": {},
     "output_type": "display_data"
    },
    {
     "data": {
      "application/vnd.jupyter.widget-view+json": {
       "model_id": "6ff8b664d2ef416d9fd7316e78d7f567",
       "version_major": 2,
       "version_minor": 0
      },
      "text/plain": [
       "Jamendo rows:   0%|          | 0/750 [00:00<?, ?it/s]"
      ]
     },
     "metadata": {},
     "output_type": "display_data"
    },
    {
     "name": "stderr",
     "output_type": "stream",
     "text": [
      "[src/libmpg123/id3.c:INT123_id3_to_utf8():394] warning: Weird tag size 19 for encoding 1 - I will probably trim too early or something but I think the MP3 is broken.\n",
      "[src/libmpg123/id3.c:INT123_id3_to_utf8():394] warning: Weird tag size 19 for encoding 1 - I will probably trim too early or something but I think the MP3 is broken.\n",
      "[src/libmpg123/id3.c:INT123_id3_to_utf8():394] warning: Weird tag size 19 for encoding 1 - I will probably trim too early or something but I think the MP3 is broken.\n",
      "[src/libmpg123/id3.c:INT123_id3_to_utf8():394] warning: Weird tag size 19 for encoding 1 - I will probably trim too early or something but I think the MP3 is broken.\n",
      "[src/libmpg123/id3.c:INT123_id3_to_utf8():394] warning: Weird tag size 19 for encoding 1 - I will probably trim too early or something but I think the MP3 is broken.\n",
      "[src/libmpg123/id3.c:INT123_id3_to_utf8():394] warning: Weird tag size 19 for encoding 1 - I will probably trim too early or something but I think the MP3 is broken.\n",
      "[src/libmpg123/id3.c:INT123_id3_to_utf8():394] warning: Weird tag size 19 for encoding 1 - I will probably trim too early or something but I think the MP3 is broken.\n",
      "[src/libmpg123/id3.c:INT123_id3_to_utf8():394] warning: Weird tag size 19 for encoding 1 - I will probably trim too early or something but I think the MP3 is broken.\n",
      "[src/libmpg123/id3.c:INT123_id3_to_utf8():394] warning: Weird tag size 19 for encoding 1 - I will probably trim too early or something but I think the MP3 is broken.\n",
      "[src/libmpg123/id3.c:INT123_id3_to_utf8():394] warning: Weird tag size 19 for encoding 1 - I will probably trim too early or something but I think the MP3 is broken.\n",
      "[src/libmpg123/id3.c:INT123_id3_to_utf8():394] warning: Weird tag size 19 for encoding 1 - I will probably trim too early or something but I think the MP3 is broken.\n",
      "[src/libmpg123/id3.c:INT123_id3_to_utf8():394] warning: Weird tag size 19 for encoding 1 - I will probably trim too early or something but I think the MP3 is broken.\n",
      "[src/libmpg123/id3.c:INT123_id3_to_utf8():394] warning: Weird tag size 19 for encoding 1 - I will probably trim too early or something but I think the MP3 is broken.\n",
      "[src/libmpg123/id3.c:INT123_id3_to_utf8():394] warning: Weird tag size 19 for encoding 1 - I will probably trim too early or something but I think the MP3 is broken.\n",
      "[src/libmpg123/id3.c:INT123_id3_to_utf8():394] warning: Weird tag size 77 for encoding 1 - I will probably trim too early or something but I think the MP3 is broken.\n",
      "[src/libmpg123/id3.c:INT123_id3_to_utf8():394] warning: Weird tag size 77 for encoding 1 - I will probably trim too early or something but I think the MP3 is broken.\n",
      "[src/libmpg123/id3.c:INT123_id3_to_utf8():394] warning: Weird tag size 77 for encoding 1 - I will probably trim too early or something but I think the MP3 is broken.\n",
      "[src/libmpg123/id3.c:INT123_id3_to_utf8():394] warning: Weird tag size 77 for encoding 1 - I will probably trim too early or something but I think the MP3 is broken.\n",
      "[src/libmpg123/id3.c:INT123_parse_new_id3():1089] error: Whoa! ID3v2 frame claims to be larger than the whole rest of the tag.\n",
      "[src/libmpg123/id3.c:INT123_id3_to_utf8():394] warning: Weird tag size 67 for encoding 1 - I will probably trim too early or something but I think the MP3 is broken.\n",
      "[src/libmpg123/id3.c:INT123_id3_to_utf8():394] warning: Weird tag size 75 for encoding 1 - I will probably trim too early or something but I think the MP3 is broken.\n",
      "[src/libmpg123/id3.c:INT123_id3_to_utf8():394] warning: Weird tag size 111 for encoding 1 - I will probably trim too early or something but I think the MP3 is broken.\n",
      "[src/libmpg123/id3.c:INT123_id3_to_utf8():394] warning: Weird tag size 85 for encoding 1 - I will probably trim too early or something but I think the MP3 is broken.\n",
      "[src/libmpg123/id3.c:INT123_id3_to_utf8():394] warning: Weird tag size 87 for encoding 1 - I will probably trim too early or something but I think the MP3 is broken.\n",
      "[src/libmpg123/id3.c:INT123_id3_to_utf8():394] warning: Weird tag size 35 for encoding 1 - I will probably trim too early or something but I think the MP3 is broken.\n",
      "[src/libmpg123/id3.c:INT123_id3_to_utf8():394] warning: Weird tag size 59 for encoding 1 - I will probably trim too early or something but I think the MP3 is broken.\n",
      "[src/libmpg123/id3.c:INT123_id3_to_utf8():394] warning: Weird tag size 29 for encoding 1 - I will probably trim too early or something but I think the MP3 is broken.\n",
      "[src/libmpg123/id3.c:INT123_id3_to_utf8():394] warning: Weird tag size 29 for encoding 1 - I will probably trim too early or something but I think the MP3 is broken.\n",
      "[src/libmpg123/id3.c:INT123_parse_new_id3():1089] error: Whoa! ID3v2 frame claims to be larger than the whole rest of the tag.\n",
      "[src/libmpg123/id3.c:INT123_id3_to_utf8():394] warning: Weird tag size 29 for encoding 1 - I will probably trim too early or something but I think the MP3 is broken.\n",
      "[src/libmpg123/id3.c:INT123_parse_new_id3():1089] error: Whoa! ID3v2 frame claims to be larger than the whole rest of the tag.\n",
      "[src/libmpg123/id3.c:INT123_id3_to_utf8():394] warning: Weird tag size 29 for encoding 1 - I will probably trim too early or something but I think the MP3 is broken.\n",
      "[src/libmpg123/id3.c:INT123_parse_new_id3():1089] error: Whoa! ID3v2 frame claims to be larger than the whole rest of the tag.\n",
      "[src/libmpg123/id3.c:INT123_id3_to_utf8():394] warning: Weird tag size 29 for encoding 1 - I will probably trim too early or something but I think the MP3 is broken.\n",
      "[src/libmpg123/id3.c:INT123_parse_new_id3():1089] error: Whoa! ID3v2 frame claims to be larger than the whole rest of the tag.\n",
      "[src/libmpg123/id3.c:INT123_id3_to_utf8():394] warning: Weird tag size 29 for encoding 1 - I will probably trim too early or something but I think the MP3 is broken.\n",
      "[src/libmpg123/id3.c:INT123_parse_new_id3():1089] error: Whoa! ID3v2 frame claims to be larger than the whole rest of the tag.\n",
      "[src/libmpg123/id3.c:INT123_id3_to_utf8():394] warning: Weird tag size 29 for encoding 1 - I will probably trim too early or something but I think the MP3 is broken.\n",
      "[src/libmpg123/id3.c:INT123_parse_new_id3():1089] error: Whoa! ID3v2 frame claims to be larger than the whole rest of the tag.\n",
      "[src/libmpg123/id3.c:INT123_id3_to_utf8():394] warning: Weird tag size 29 for encoding 1 - I will probably trim too early or something but I think the MP3 is broken.\n",
      "[src/libmpg123/id3.c:INT123_parse_new_id3():1089] error: Whoa! ID3v2 frame claims to be larger than the whole rest of the tag.\n",
      "[src/libmpg123/id3.c:INT123_id3_to_utf8():394] warning: Weird tag size 241 for encoding 1 - I will probably trim too early or something but I think the MP3 is broken.\n",
      "[src/libmpg123/id3.c:INT123_id3_to_utf8():394] warning: Weird tag size 91 for encoding 1 - I will probably trim too early or something but I think the MP3 is broken.\n"
     ]
    },
    {
     "data": {
      "application/vnd.jupyter.widget-view+json": {
       "model_id": "c9dcff8f300943868ecf9a3c73338069",
       "version_major": 2,
       "version_minor": 0
      },
      "text/plain": [
       "Song Describer rows:   0%|          | 0/3000 [00:00<?, ?it/s]"
      ]
     },
     "metadata": {},
     "output_type": "display_data"
    },
    {
     "name": "stdout",
     "output_type": "stream",
     "text": [
      "Jamendo: 750 rows streamed, 750 durations collected, 0 missing duration entries, 0 missing captions\n",
      "Song Describer: 746 rows streamed, 746 durations collected, 0 missing duration entries\n"
     ]
    }
   ],
   "source": [
    "if JAMENDO_METADATA_ONLY:\n",
    "    jamendo_stats = sample_jamendo_from_metadata(MAX_JAMENDO_RECORDS, MAX_JAMENDO_METADATA_FILES)\n",
    "else:\n",
    "    jamendo_stats = sample_jamendo(MAX_JAMENDO_RECORDS)\n",
    "song_stats = sample_song_describer(MAX_SONG_DESCRIBER_RECORDS)\n",
    "\n",
    "print(\"Jamendo: {rows} rows parsed, {dur} durations collected, {missing} missing\".format(\n",
    "    rows=jamendo_stats['rows_seen'],\n",
    "    dur=len(jamendo_stats['durations']),\n",
    "    missing=jamendo_stats['missing_duration'],\n",
    "))\n",
    "print(\"Song Describer: {rows} rows streamed, {dur} durations collected, {missing} missing duration entries\".format(\n",
    "    rows=song_stats['rows_seen'],\n",
    "    dur=len(song_stats['durations']),\n",
    "    missing=song_stats['missing_duration'],\n",
    "))\n"
   ]
  },
  {
   "cell_type": "code",
   "execution_count": 17,
   "id": "6163a849",
   "metadata": {},
   "outputs": [
    {
     "data": {
      "application/vnd.microsoft.datawrangler.viewer.v0+json": {
       "columns": [
        {
         "name": "index",
         "rawType": "object",
         "type": "string"
        },
        {
         "name": "Jamendo",
         "rawType": "float64",
         "type": "float"
        },
        {
         "name": "Song Describer",
         "rawType": "float64",
         "type": "float"
        }
       ],
       "ref": "9cd05f28-d348-4232-a245-f21b16328a51",
       "rows": [
        [
         "count",
         "750.0",
         "746.0"
        ],
        [
         "mean_sec",
         "245.9110246107332",
         "222.4017426273458"
        ],
        [
         "median_sec",
         "226.43857142857144",
         "216.0"
        ],
        [
         "std_sec",
         "139.25792316934096",
         "74.73371581045846"
        ],
        [
         "min_sec",
         "11.573333333333334",
         "34.0"
        ],
        [
         "p25_sec",
         "159.8670351473923",
         "174.32500000000002"
        ],
        [
         "p75_sec",
         "306.42067460317463",
         "256.325"
        ],
        [
         "max_sec",
         "1169.8938775510203",
         "666.0"
        ],
        [
         "mean_min",
         "4.098517076845553",
         "3.7066957104557634"
        ]
       ],
       "shape": {
        "columns": 2,
        "rows": 9
       }
      },
      "text/html": [
       "<div>\n",
       "<style scoped>\n",
       "    .dataframe tbody tr th:only-of-type {\n",
       "        vertical-align: middle;\n",
       "    }\n",
       "\n",
       "    .dataframe tbody tr th {\n",
       "        vertical-align: top;\n",
       "    }\n",
       "\n",
       "    .dataframe thead th {\n",
       "        text-align: right;\n",
       "    }\n",
       "</style>\n",
       "<table border=\"1\" class=\"dataframe\">\n",
       "  <thead>\n",
       "    <tr style=\"text-align: right;\">\n",
       "      <th></th>\n",
       "      <th>Jamendo</th>\n",
       "      <th>Song Describer</th>\n",
       "    </tr>\n",
       "  </thead>\n",
       "  <tbody>\n",
       "    <tr>\n",
       "      <th>count</th>\n",
       "      <td>750.000000</td>\n",
       "      <td>746.000000</td>\n",
       "    </tr>\n",
       "    <tr>\n",
       "      <th>mean_sec</th>\n",
       "      <td>245.911025</td>\n",
       "      <td>222.401743</td>\n",
       "    </tr>\n",
       "    <tr>\n",
       "      <th>median_sec</th>\n",
       "      <td>226.438571</td>\n",
       "      <td>216.000000</td>\n",
       "    </tr>\n",
       "    <tr>\n",
       "      <th>std_sec</th>\n",
       "      <td>139.257923</td>\n",
       "      <td>74.733716</td>\n",
       "    </tr>\n",
       "    <tr>\n",
       "      <th>min_sec</th>\n",
       "      <td>11.573333</td>\n",
       "      <td>34.000000</td>\n",
       "    </tr>\n",
       "    <tr>\n",
       "      <th>p25_sec</th>\n",
       "      <td>159.867035</td>\n",
       "      <td>174.325000</td>\n",
       "    </tr>\n",
       "    <tr>\n",
       "      <th>p75_sec</th>\n",
       "      <td>306.420675</td>\n",
       "      <td>256.325000</td>\n",
       "    </tr>\n",
       "    <tr>\n",
       "      <th>max_sec</th>\n",
       "      <td>1169.893878</td>\n",
       "      <td>666.000000</td>\n",
       "    </tr>\n",
       "    <tr>\n",
       "      <th>mean_min</th>\n",
       "      <td>4.098517</td>\n",
       "      <td>3.706696</td>\n",
       "    </tr>\n",
       "  </tbody>\n",
       "</table>\n",
       "</div>"
      ],
      "text/plain": [
       "                Jamendo  Song Describer\n",
       "count        750.000000      746.000000\n",
       "mean_sec     245.911025      222.401743\n",
       "median_sec   226.438571      216.000000\n",
       "std_sec      139.257923       74.733716\n",
       "min_sec       11.573333       34.000000\n",
       "p25_sec      159.867035      174.325000\n",
       "p75_sec      306.420675      256.325000\n",
       "max_sec     1169.893878      666.000000\n",
       "mean_min       4.098517        3.706696"
      ]
     },
     "execution_count": 17,
     "metadata": {},
     "output_type": "execute_result"
    }
   ],
   "source": [
    "duration_summary_df = pd.concat(\n",
    "    [\n",
    "        summarize_durations(jamendo_stats[\"durations\"]).rename(\"Jamendo\"),\n",
    "        summarize_durations(song_stats[\"durations\"]).rename(\"Song Describer\"),\n",
    "    ],\n",
    "    axis=1,\n",
    ")\n",
    "duration_summary_df\n"
   ]
  },
  {
   "cell_type": "code",
   "execution_count": 18,
   "id": "41a0c856",
   "metadata": {},
   "outputs": [
    {
     "data": {
      "image/png": "[encoded data removed]",
      "text/plain": [
       "<Figure size 1000x500 with 1 Axes>"
      ]
     },
     "metadata": {},
     "output_type": "display_data"
    }
   ],
   "source": [
    "all_durations = jamendo_stats[\"durations\"] + song_stats[\"durations\"]\n",
    "if all_durations:\n",
    "    max_duration = max(all_durations)\n",
    "    if max_duration <= 0:\n",
    "        bins = np.linspace(0, 1, 10)\n",
    "    else:\n",
    "        bins = np.linspace(0, max_duration, 60)\n",
    "else:\n",
    "    bins = np.linspace(0, 1, 10)\n",
    "\n",
    "fig, ax = plt.subplots(figsize=(10, 5))\n",
    "ax.hist(jamendo_stats[\"durations\"], bins=bins, alpha=0.6, label=\"Jamendo\")\n",
    "ax.hist(song_stats[\"durations\"], bins=bins, alpha=0.6, label=\"Song Describer\")\n",
    "ax.set_xlabel(\"Duration (seconds)\")\n",
    "ax.set_ylabel(\"Count\")\n",
    "ax.set_title(\"Duration distribution (sampled)\")\n",
    "ax.legend()\n",
    "plt.tight_layout()\n",
    "plt.show()\n"
   ]
  },
  {
   "cell_type": "code",
   "execution_count": 19,
   "id": "26decf37",
   "metadata": {},
   "outputs": [
    {
     "data": {
      "application/vnd.microsoft.datawrangler.viewer.v0+json": {
       "columns": [
        {
         "name": "index",
         "rawType": "object",
         "type": "string"
        },
        {
         "name": "Jamendo",
         "rawType": "int64",
         "type": "integer"
        },
        {
         "name": "Song Describer",
         "rawType": "int64",
         "type": "integer"
        }
       ],
       "ref": "0a29d975-db83-4dfa-94ec-a9c8f8c7b098",
       "rows": [
        [
         "electronic",
         "386",
         "88"
        ],
        [
         "soundtrack",
         "182",
         "18"
        ],
        [
         "rock",
         "169",
         "115"
        ],
        [
         "ambient",
         "154",
         "23"
        ],
        [
         "techno",
         "154",
         "0"
        ],
        [
         "pop",
         "99",
         "96"
        ],
        [
         "classical",
         "96",
         "26"
        ],
        [
         "emo",
         "64",
         "30"
        ],
        [
         "house",
         "56",
         "0"
        ],
        [
         "jazz",
         "45",
         "34"
        ],
        [
         "punk",
         "44",
         "10"
        ],
        [
         "folk",
         "34",
         "35"
        ],
        [
         "hip hop",
         "32",
         "20"
        ],
        [
         "world",
         "28",
         "0"
        ],
        [
         "blues",
         "26",
         "22"
        ],
        [
         "orchestral",
         "22",
         "10"
        ],
        [
         "acoustic",
         "16",
         "77"
        ],
        [
         "chillout",
         "15",
         "0"
        ],
        [
         "trance",
         "15",
         "0"
        ],
        [
         "dubstep",
         "12",
         "0"
        ],
        [
         "rap",
         "0",
         "29"
        ],
        [
         "country",
         "0",
         "21"
        ],
        [
         "latin",
         "0",
         "20"
        ],
        [
         "reggae",
         "0",
         "16"
        ],
        [
         "metal",
         "0",
         "16"
        ],
        [
         "funk",
         "0",
         "15"
        ]
       ],
       "shape": {
        "columns": 2,
        "rows": 26
       }
      },
      "text/html": [
       "<div>\n",
       "<style scoped>\n",
       "    .dataframe tbody tr th:only-of-type {\n",
       "        vertical-align: middle;\n",
       "    }\n",
       "\n",
       "    .dataframe tbody tr th {\n",
       "        vertical-align: top;\n",
       "    }\n",
       "\n",
       "    .dataframe thead th {\n",
       "        text-align: right;\n",
       "    }\n",
       "</style>\n",
       "<table border=\"1\" class=\"dataframe\">\n",
       "  <thead>\n",
       "    <tr style=\"text-align: right;\">\n",
       "      <th></th>\n",
       "      <th>Jamendo</th>\n",
       "      <th>Song Describer</th>\n",
       "    </tr>\n",
       "  </thead>\n",
       "  <tbody>\n",
       "    <tr>\n",
       "      <th>electronic</th>\n",
       "      <td>386</td>\n",
       "      <td>88</td>\n",
       "    </tr>\n",
       "    <tr>\n",
       "      <th>soundtrack</th>\n",
       "      <td>182</td>\n",
       "      <td>18</td>\n",
       "    </tr>\n",
       "    <tr>\n",
       "      <th>rock</th>\n",
       "      <td>169</td>\n",
       "      <td>115</td>\n",
       "    </tr>\n",
       "    <tr>\n",
       "      <th>ambient</th>\n",
       "      <td>154</td>\n",
       "      <td>23</td>\n",
       "    </tr>\n",
       "    <tr>\n",
       "      <th>techno</th>\n",
       "      <td>154</td>\n",
       "      <td>0</td>\n",
       "    </tr>\n",
       "    <tr>\n",
       "      <th>pop</th>\n",
       "      <td>99</td>\n",
       "      <td>96</td>\n",
       "    </tr>\n",
       "    <tr>\n",
       "      <th>classical</th>\n",
       "      <td>96</td>\n",
       "      <td>26</td>\n",
       "    </tr>\n",
       "    <tr>\n",
       "      <th>emo</th>\n",
       "      <td>64</td>\n",
       "      <td>30</td>\n",
       "    </tr>\n",
       "    <tr>\n",
       "      <th>house</th>\n",
       "      <td>56</td>\n",
       "      <td>0</td>\n",
       "    </tr>\n",
       "    <tr>\n",
       "      <th>jazz</th>\n",
       "      <td>45</td>\n",
       "      <td>34</td>\n",
       "    </tr>\n",
       "    <tr>\n",
       "      <th>punk</th>\n",
       "      <td>44</td>\n",
       "      <td>10</td>\n",
       "    </tr>\n",
       "    <tr>\n",
       "      <th>folk</th>\n",
       "      <td>34</td>\n",
       "      <td>35</td>\n",
       "    </tr>\n",
       "    <tr>\n",
       "      <th>hip hop</th>\n",
       "      <td>32</td>\n",
       "      <td>20</td>\n",
       "    </tr>\n",
       "    <tr>\n",
       "      <th>world</th>\n",
       "      <td>28</td>\n",
       "      <td>0</td>\n",
       "    </tr>\n",
       "    <tr>\n",
       "      <th>blues</th>\n",
       "      <td>26</td>\n",
       "      <td>22</td>\n",
       "    </tr>\n",
       "    <tr>\n",
       "      <th>orchestral</th>\n",
       "      <td>22</td>\n",
       "      <td>10</td>\n",
       "    </tr>\n",
       "    <tr>\n",
       "      <th>acoustic</th>\n",
       "      <td>16</td>\n",
       "      <td>77</td>\n",
       "    </tr>\n",
       "    <tr>\n",
       "      <th>chillout</th>\n",
       "      <td>15</td>\n",
       "      <td>0</td>\n",
       "    </tr>\n",
       "    <tr>\n",
       "      <th>trance</th>\n",
       "      <td>15</td>\n",
       "      <td>0</td>\n",
       "    </tr>\n",
       "    <tr>\n",
       "      <th>dubstep</th>\n",
       "      <td>12</td>\n",
       "      <td>0</td>\n",
       "    </tr>\n",
       "    <tr>\n",
       "      <th>rap</th>\n",
       "      <td>0</td>\n",
       "      <td>29</td>\n",
       "    </tr>\n",
       "    <tr>\n",
       "      <th>country</th>\n",
       "      <td>0</td>\n",
       "      <td>21</td>\n",
       "    </tr>\n",
       "    <tr>\n",
       "      <th>latin</th>\n",
       "      <td>0</td>\n",
       "      <td>20</td>\n",
       "    </tr>\n",
       "    <tr>\n",
       "      <th>reggae</th>\n",
       "      <td>0</td>\n",
       "      <td>16</td>\n",
       "    </tr>\n",
       "    <tr>\n",
       "      <th>metal</th>\n",
       "      <td>0</td>\n",
       "      <td>16</td>\n",
       "    </tr>\n",
       "    <tr>\n",
       "      <th>funk</th>\n",
       "      <td>0</td>\n",
       "      <td>15</td>\n",
       "    </tr>\n",
       "  </tbody>\n",
       "</table>\n",
       "</div>"
      ],
      "text/plain": [
       "            Jamendo  Song Describer\n",
       "electronic      386              88\n",
       "soundtrack      182              18\n",
       "rock            169             115\n",
       "ambient         154              23\n",
       "techno          154               0\n",
       "pop              99              96\n",
       "classical        96              26\n",
       "emo              64              30\n",
       "house            56               0\n",
       "jazz             45              34\n",
       "punk             44              10\n",
       "folk             34              35\n",
       "hip hop          32              20\n",
       "world            28               0\n",
       "blues            26              22\n",
       "orchestral       22              10\n",
       "acoustic         16              77\n",
       "chillout         15               0\n",
       "trance           15               0\n",
       "dubstep          12               0\n",
       "rap               0              29\n",
       "country           0              21\n",
       "latin             0              20\n",
       "reggae            0              16\n",
       "metal             0              16\n",
       "funk              0              15"
      ]
     },
     "execution_count": 19,
     "metadata": {},
     "output_type": "execute_result"
    }
   ],
   "source": [
    "jamendo_genre_top = counter_to_series(jamendo_stats[\"genre_counts\"], top_n=20)\n",
    "song_genre_top = counter_to_series(song_stats[\"genre_counts\"], top_n=20)\n",
    "\n",
    "genre_compare = pd.concat(\n",
    "    [jamendo_genre_top.rename(\"Jamendo\"), song_genre_top.rename(\"Song Describer\")],\n",
    "    axis=1,\n",
    ").fillna(0).astype(int)\n",
    "genre_compare\n"
   ]
  },
  {
   "cell_type": "code",
   "execution_count": 20,
   "id": "54ac2257",
   "metadata": {},
   "outputs": [
    {
     "data": {
      "image/png": "[encoded data removed]",
      "text/plain": [
       "<Figure size 1000x500 with 1 Axes>"
      ]
     },
     "metadata": {},
     "output_type": "display_data"
    }
   ],
   "source": [
    "if not genre_compare.empty:\n",
    "    top_indices = genre_compare.sum(axis=1).sort_values(ascending=False).head(10).index\n",
    "    plot_df = genre_compare.loc[top_indices]\n",
    "    ax = plot_df.plot(\n",
    "        kind=\"bar\",\n",
    "        figsize=(10, 5),\n",
    "        title=\"Top shared genres (keyword heuristics for Song Describer)\",\n",
    "    )\n",
    "    ax.set_xlabel(\"Genre\")\n",
    "    ax.set_ylabel(\"Matches in sampled rows\")\n",
    "    plt.tight_layout()\n",
    "    plt.show()\n"
   ]
  },
  {
   "cell_type": "code",
   "execution_count": 21,
   "id": "747f26cb",
   "metadata": {},
   "outputs": [
    {
     "data": {
      "application/vnd.microsoft.datawrangler.viewer.v0+json": {
       "columns": [
        {
         "name": "index",
         "rawType": "object",
         "type": "string"
        },
        {
         "name": "count",
         "rawType": "int64",
         "type": "integer"
        }
       ],
       "ref": "7a79a457-12d1-4cb1-b8a8-283a044d6816",
       "rows": [
        [
         "0",
         "187"
        ],
        [
         "1",
         "389"
        ],
        [
         "2",
         "170"
        ]
       ],
       "shape": {
        "columns": 1,
        "rows": 3
       }
      },
      "text/plain": [
       "0    187\n",
       "1    389\n",
       "2    170\n",
       "Name: count, dtype: int64"
      ]
     },
     "execution_count": 21,
     "metadata": {},
     "output_type": "execute_result"
    }
   ],
   "source": [
    "song_familiarity = pd.Series(song_stats[\"familiarity_counts\"], dtype=int).sort_index()\n",
    "song_familiarity.name = \"count\"\n",
    "song_familiarity\n"
   ]
  },
  {
   "cell_type": "code",
   "execution_count": 22,
   "id": "13e8bedb",
   "metadata": {},
   "outputs": [
    {
     "ename": "KeyError",
     "evalue": "'mood_counts'",
     "output_type": "error",
     "traceback": [
      "\u001b[31m---------------------------------------------------------------------------\u001b[39m",
      "\u001b[31mKeyError\u001b[39m                                  Traceback (most recent call last)",
      "\u001b[36mCell\u001b[39m\u001b[36m \u001b[39m\u001b[32mIn[22]\u001b[39m\u001b[32m, line 1\u001b[39m\n\u001b[32m----> \u001b[39m\u001b[32m1\u001b[39m jamendo_moods = counter_to_series(\u001b[43mjamendo_stats\u001b[49m\u001b[43m[\u001b[49m\u001b[33;43m\"\u001b[39;49m\u001b[33;43mmood_counts\u001b[39;49m\u001b[33;43m\"\u001b[39;49m\u001b[43m]\u001b[49m, top_n=\u001b[32m20\u001b[39m)\n\u001b[32m      2\u001b[39m jamendo_moods\n",
      "\u001b[31mKeyError\u001b[39m: 'mood_counts'"
     ]
    }
   ],
   "source": [
    "jamendo_moods = counter_to_series(jamendo_stats[\"mood_counts\"], top_n=20)\n",
    "jamendo_moods\n"
   ]
  },
  {
   "cell_type": "markdown",
   "metadata": {},
   "source": [
    "## Notes\n",
    "- Jamendo genres come from the structured `musicinfo.tags.genres` field. Many tracks do not expose tags, so counts represent only the subset with metadata.\n",
    "- Song Describer lacks explicit genre labels; matches rely on keyword heuristics in the caption text and should be treated as indicative rather than definitive.\n",
    "- Increase `MAX_JAMENDO_RECORDS` or `MAX_SONG_DESCRIBER_RECORDS` for more stable estimates when runtime and bandwidth allow.\n"
   ]
  }
 ],
 "metadata": {
  "kernelspec": {
   "display_name": ".venv (3.12.10)",
   "language": "python",
   "name": "python3"
  },
  "language_info": {
   "codemirror_mode": {
    "name": "ipython",
    "version": 3
   },
   "file_extension": ".py",
   "mimetype": "text/x-python",
   "name": "python",
   "nbconvert_exporter": "python",
   "pygments_lexer": "ipython3",
   "version": "3.12.10"
  }
 },
 "nbformat": 4,
 "nbformat_minor": 5
}